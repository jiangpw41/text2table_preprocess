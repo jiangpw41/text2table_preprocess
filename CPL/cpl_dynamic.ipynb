{
 "cells": [
  {
   "cell_type": "code",
   "execution_count": 12,
   "metadata": {},
   "outputs": [],
   "source": [
    "from wayne_utils import load_data, save_data, get_shuffle_index, data_split\n",
    "import os\n",
    "import sys\n",
    "import pandas as pd\n",
    "import shutil\n",
    "from tools.rule_split import cpl_text_ruled_processor\n",
    "\n",
    "split_ratio = [0.7, 0.3]\n",
    "_ROOT_PATH = \"/home/jiangpeiwen2/jiangpeiwen2/text2table_preprocess/CPL\"\n",
    "split_path = os.path.join( _ROOT_PATH, \"split\")\n",
    "sys.path.insert( 0, os.path.join( _ROOT_PATH, \"raw/CPL\") )\n",
    "\n",
    "dynamic_table_path = os.path.join( _ROOT_PATH, \"data/dynamic_simple_table.json\" )\n",
    "text_path = os.path.join( _ROOT_PATH, \"data/texts.json\" )\n",
    "texts = load_data( text_path, \"json\")\n",
    "dynamic_tables = load_data( dynamic_table_path, \"json\")\n",
    "tables = load_data( os.path.join( _ROOT_PATH, \"data/tables.pickle\" ), \"pickle\")"
   ]
  },
  {
   "cell_type": "markdown",
   "metadata": {},
   "source": [
    "## 划分训练集和测试集"
   ]
  },
  {
   "cell_type": "code",
   "execution_count": 13,
   "metadata": {},
   "outputs": [
    {
     "name": "stdout",
     "output_type": "stream",
     "text": [
      "已存在，直接加载\n"
     ]
    }
   ],
   "source": [
    "index_path = os.path.join( split_path, \"shuffle_index.json\")\n",
    "if not os.path.exists( index_path ):\n",
    "    shuffle_index = get_shuffle_index( tables )\n",
    "    split_index = {\n",
    "        \"train\": shuffle_index[: int( split_ratio[0]* len(tables))],\n",
    "        \"test\": shuffle_index[int( split_ratio[0]* len(tables)) : ],\n",
    "    }\n",
    "    save_data( split_index, index_path)\n",
    "else:\n",
    "    print( \"已存在，直接加载\")\n",
    "    shuffle_index = []\n",
    "    shuffle_index_2 = split_index = load_data( index_path, \"json\")\n",
    "    shuffle_index.extend( shuffle_index_2[\"train\"])\n",
    "    shuffle_index.extend( shuffle_index_2[\"test\"])\n",
    "\n",
    "texts_list = [ texts[str(i)] for i in range(len(texts))]\n",
    "dynamic_tables_list = [ dynamic_tables[str(i)] for i in range(len(dynamic_tables))]\n",
    "train_text, test_text = data_split( texts_list, split_ratio, shuffle_index)\n",
    "train_table, test_table = data_split( dynamic_tables_list, split_ratio, shuffle_index)\n",
    "\n",
    "save_train_text = { i: train_text[i] for i in range(len(train_text))}\n",
    "save_test_text = { i: test_text[i] for i in range(len(test_text))}\n",
    "save_train_table = { i: train_table[i] for i in range(len(train_table))}\n",
    "save_test_table = { i: test_table[i] for i in range(len(test_table))}\n",
    "\n",
    "\n",
    "save_data( save_train_text, os.path.join( split_path, \"texts_train.json\"))\n",
    "save_data( save_test_text, os.path.join( split_path, \"texts_test.json\"))\n",
    "save_data( save_train_table, os.path.join( split_path, \"tables_train_dynamic.json\"))\n",
    "save_data( save_test_table, os.path.join( split_path, \"tables_test_dynamic.json\"))"
   ]
  },
  {
   "cell_type": "code",
   "execution_count": 14,
   "metadata": {},
   "outputs": [
    {
     "data": {
      "text/plain": [
       "{'开头': ['陈普杰与尚广友、武礼群民间借贷纠纷一审民事判决书',\n",
       "  '安徽省合肥市瑶海区人民法院',\n",
       "  '民事判决书',\n",
       "  '（2015）瑶民一初字第05411号'],\n",
       " '程序信息': ['原告：陈普杰，男，1974年6月29日出生，汉族，住安徽省合肥市瑶海区。',\n",
       "  '被告：尚广友，男，1974年3月26日出生，汉族，住安徽省合肥市瑶海区。',\n",
       "  '被告：武礼群，女，1971年5月6日出生，汉族，住安徽省合肥市瑶海区。',\n",
       "  '原告陈普杰与被告尚广友、武礼群民间借贷纠纷一案，本院受理后，依法组成合议庭公开进行了审理。原告陈普杰到庭参加诉讼，被告尚广友、武礼群经本院公告送达开庭传票，无正当理由未到庭参加诉讼。本案现已审理终结。'],\n",
       " '原告申诉': ['陈普杰诉称：两被告系夫妻关系，2012年8月26日和同年10月7日，被告因做工程缺少资金，先后向原告借款2万元，立借条两份。后原告多次催要未果，遂诉讼至法院，要求判令：两被告立即归还原告借款本金20000元，并自起诉之日起，以银行同期贷款利率为标准支付利息至款清之日止。'],\n",
       " '法院裁定': ['经审理查明：尚广友分别于2012年8月26日、2012年10月7日向原告陈普杰出具借条，均载明借到陈普杰10000元。尚广友在借条借款人处签署了其本人及武礼群的名字。陈普杰主张借条出具当天其均通过现金的方式向尚广友交付了借款，两次借款共计20000元。另查，本案借款均发生于两被告婚姻关系存续期间。',\n",
       "  '以上事实，由原告提供的借条等书证及当事人陈述等证据在卷佐证。',\n",
       "  '本院认为：合法的借贷关系应受法律保护。陈普杰主张其向尚广友提供借款20000元，其提供了两张金额分别为10000元的借条对其主张予以证明，故本院对陈普杰主张的借贷关系予以确认。因双方未约定还款期限，陈普杰有权随时主张债权，现陈普杰要求尚广友偿还借款本金20000元，并自起诉之日即2015年10月20日起，以20000元为基数，按中国人民银行同期同类贷款基准利率的标准支付利息至款清之日止，符合法律规定，予以支持。因本案借款发生在两被告婚姻关系存续期间，应视为夫妻共同债务，陈普杰要求武礼群对上述尚广友应偿还的债务承担共同还款责任的诉讼请求，符合法律规定，予以支持。尚广友、武礼群经本院合法传唤，无正当理由未到庭参加诉讼，应视为对其抗辩权利的放弃。据此，依据《中华人民共和国合同法》第二百零六条、第二百零七条，《中华人民共和国民事诉讼法》第一百四十四条及《最高人民法院关于适用<中华人民共和国婚姻法>若干问题的解释（二）》第二十四条之规定，判决如下：',\n",
       "  '被告尚广友、武礼群于本判决生效之日起十日内偿还原告陈普杰借款本金20000元及利息（利息自2015年10月20日起，以20000元为基数，按中国人民银行同期同类贷款基准利率的标准支付至款清之日止）。',\n",
       "  '如果未按本判决指定的期间履行给付金钱义务，应当依照《中华人民共和国民事诉讼法》第二百五十三条之规定，加倍支付迟延履行期间的债务利息。']}"
      ]
     },
     "execution_count": 14,
     "metadata": {},
     "output_type": "execute_result"
    }
   ],
   "source": [
    "test_text[146]"
   ]
  },
  {
   "cell_type": "markdown",
   "metadata": {},
   "source": [
    "## 加载训练集与测试集"
   ]
  },
  {
   "cell_type": "code",
   "execution_count": 15,
   "metadata": {},
   "outputs": [],
   "source": [
    "save_train_text = load_data( os.path.join( split_path, \"texts_train.json\"), \"json\")             # 492 \n",
    "save_test_text = load_data( os.path.join( split_path, \"texts_test.json\"), \"json\")               # 211\n",
    "save_train_table = load_data( os.path.join( split_path, \"tables_train_dynamic.json\"), \"json\")\n",
    "save_test_table = load_data( os.path.join( split_path, \"tables_test_dynamic.json\"), \"json\")"
   ]
  },
  {
   "cell_type": "markdown",
   "metadata": {},
   "source": [
    "## 统计次数"
   ]
  },
  {
   "cell_type": "code",
   "execution_count": null,
   "metadata": {},
   "outputs": [],
   "source": [
    "counter_field = [\"法院\", \"原告\", \"被告\", \"借款凭证\", \"约定的借款金额\", \"约定的还款日期或借款期限\", '约定的利息', \"约定的逾期利息\", \"约定的违约金\"]\n",
    "\n",
    "def counter_entity( table ):\n",
    "    may_sep = [ \",\", \"、\", \"，\"]\n",
    "    counter = [0, 0, 0]\n",
    "    for i, dicts in enumerate( [table['法院'], table['原告'], table['被告']]):\n",
    "        for key in dicts.keys():\n",
    "            flag = 0\n",
    "            for sep in may_sep:\n",
    "                if sep in key:\n",
    "                    flag = 1\n",
    "                    names = key.split( sep )\n",
    "                    for name in names:\n",
    "                        if name.strip() != \"\":\n",
    "                            counter[i] += 1\n",
    "                    break\n",
    "            if flag == 0:\n",
    "                counter[i] += 1\n",
    "\n",
    "    ret_dict = {}\n",
    "    ret_dict[ \"法院\" ] = counter[0]\n",
    "    ret_dict[ \"原告\" ] = counter[1]\n",
    "    ret_dict[ \"被告\" ] = counter[2]\n",
    "    return ret_dict\n",
    "\n",
    "def dict_empty_counter( dicts ):\n",
    "    not_empty = 0\n",
    "    for key in dicts.keys():\n",
    "        item = dicts[key]\n",
    "        # 只有有一个子字段非nan就行\n",
    "        for sub_key in item.keys():\n",
    "            if item[sub_key] != 'nan' and item[sub_key] != '未约定':\n",
    "                not_empty += 1\n",
    "                break\n",
    "    return not_empty\n",
    "\n",
    "def counter_truth( table ):\n",
    "    \"法院和原告申诉是唯一的\"\n",
    "    temp = {\n",
    "        \"原告\":{},\n",
    "        \"法院\":{}\n",
    "    }\n",
    "    claim_name = list( table['原告'].keys() )[0]\n",
    "    court_name = list( table['法院'].keys() )[0]\n",
    "\n",
    "    # 借款凭证等\n",
    "    for key in [\"借款凭证\", \"约定的借款金额\", \"约定的还款日期或借款期限\", '约定的利息', \"约定的逾期利息\", \"约定的违约金\"]:\n",
    "        temp[\"原告\"][ key ] = dict_empty_counter( table['原告'][claim_name][key] )\n",
    "        temp[\"法院\"][ key ] = dict_empty_counter( table['法院'][court_name][key] )\n",
    "    return temp\n",
    "        \n",
    "def count( tables ):\n",
    "    save_list = []\n",
    "    for index in range( len(tables) ):\n",
    "        ret_dict = counter_entity( tables[ str(index) ] )\n",
    "        ret_dict[ \"事实\" ] = counter_truth( tables[ str(index) ] )\n",
    "        save_list.append( ret_dict )\n",
    "    return save_list\n"
   ]
  },
  {
   "cell_type": "code",
   "execution_count": 89,
   "metadata": {},
   "outputs": [],
   "source": [
    "train_table_count =  count( save_train_table )\n",
    "test_table_count =  count( save_test_table )\n",
    "save_train_table_count =  { i: train_table_count[i] for i in range(len(train_table_count)) }\n",
    "save_test_table_count =  { i: test_table_count[i] for i in range(len(test_table_count)) }\n",
    "save_data( save_train_table_count, os.path.join( split_path, \"count_tables_train_dynamic.json\"))\n",
    "save_data( save_test_table_count, os.path.join( split_path, \"count_tables_test_dynamic.json\"))"
   ]
  },
  {
   "cell_type": "markdown",
   "metadata": {},
   "source": [
    "## 获取标签"
   ]
  },
  {
   "cell_type": "code",
   "execution_count": 16,
   "metadata": {},
   "outputs": [],
   "source": [
    "def get_entity( table ):\n",
    "    may_sep = [ \",\", \"、\", \"，\"]\n",
    "    counter = [[], [], []]\n",
    "    for i, dicts in enumerate( [table['法院'], table['原告'], table['被告']]):\n",
    "        for key in dicts.keys():\n",
    "            flag = 0\n",
    "            for sep in may_sep:\n",
    "                if sep in key:\n",
    "                    flag = 1\n",
    "                    names = key.split( sep )\n",
    "                    for name in names:\n",
    "                        if name.strip() != \"\":\n",
    "                            counter[i].append( name.strip())\n",
    "                    break\n",
    "            if flag == 0:\n",
    "                counter[i].append( key.strip())\n",
    "\n",
    "    ret_dict = {}\n",
    "    ret_dict[ \"法院\" ] = counter[0]\n",
    "    ret_dict[ \"原告\" ] = counter[1]\n",
    "    ret_dict[ \"被告\" ] = counter[2]\n",
    "    return ret_dict"
   ]
  },
  {
   "cell_type": "code",
   "execution_count": 17,
   "metadata": {},
   "outputs": [],
   "source": [
    "def get_label( tables ):\n",
    "    set_list = []\n",
    "    for index in range( len(tables) ):\n",
    "        temp_set = set()\n",
    "        single_table = tables[ str(index) ]\n",
    "\n",
    "        # 获取名称标签\n",
    "        entity_dicts = get_entity( single_table )\n",
    "        for key in entity_dicts.keys():\n",
    "            for ins_name in entity_dicts[key]:\n",
    "                temp_set.add( (key, \"姓名名称\", ins_name))\n",
    "\n",
    "        claim_name = list( single_table['原告'].keys() )[0]\n",
    "        court_name = list( single_table['法院'].keys() )[0]\n",
    "        court_dict = single_table['法院'][court_name]\n",
    "        claim_dict = single_table['原告'][claim_name]\n",
    "\n",
    "        # 采集两类型的字段label\n",
    "        for _dict, entity_type in zip( [court_dict, claim_dict], [\"法院\", \"原告\"] ):\n",
    "            for key in [ \"借款凭证\", \"约定的借款金额\", \"约定的还款日期或借款期限\", '约定的利息', \"约定的逾期利息\", \"约定的违约金\"]:\n",
    "                for num in _dict[key]:\n",
    "                    tem_dict = _dict[key][num]\n",
    "                    for sub_key in tem_dict.keys():\n",
    "                        value = tem_dict[sub_key]\n",
    "                        if value != \"nan\" and value != \"未约定\":\n",
    "                            liangci = \"份\" if key == \"借款凭证\" else \"次\"\n",
    "                            merge_key = f\"第{num}{liangci}{key}的{sub_key}\"\n",
    "                            temp_set.add( (entity_type, merge_key, value) )\n",
    "        set_list.append( temp_set )\n",
    "    return set_list\n"
   ]
  },
  {
   "cell_type": "code",
   "execution_count": 18,
   "metadata": {},
   "outputs": [],
   "source": [
    "for name, tables in zip( [\"test\", \"train\"], [ save_test_table, save_train_table]):\n",
    "    set_list = get_label( tables )\n",
    "    save_data( set_list, os.path.join( split_path, f\"label_{name}.pickle\"))"
   ]
  }
 ],
 "metadata": {
  "kernelspec": {
   "display_name": "TKGT-preprocess",
   "language": "python",
   "name": "python3"
  },
  "language_info": {
   "codemirror_mode": {
    "name": "ipython",
    "version": 3
   },
   "file_extension": ".py",
   "mimetype": "text/x-python",
   "name": "python",
   "nbconvert_exporter": "python",
   "pygments_lexer": "ipython3",
   "version": "3.13.0"
  }
 },
 "nbformat": 4,
 "nbformat_minor": 2
}
